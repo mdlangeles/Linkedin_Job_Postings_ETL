{
 "cells": [
  {
   "cell_type": "code",
   "execution_count": 1,
   "metadata": {},
   "outputs": [],
   "source": [
    "import sys\n",
    "import os \n",
    "sys.path.append(os.path.abspath(\"/opt/airflow/dags/dag_connections/\"))\n",
    "sys.path.append(os.path.abspath(\"/home/emmanuel/Escritorio/linkedin_job_postings_etl/dags/transformations/\"))"
   ]
  },
  {
   "cell_type": "code",
   "execution_count": 2,
   "metadata": {},
   "outputs": [],
   "source": [
    "import pandas as pd\n",
    "import json\n",
    "import logging\n",
    "import psycopg2\n",
    "from kafka import KafkaProducer\n",
    "import datetime as dt\n",
    "from sqlalchemy.ext.declarative import declarative_base\n",
    "from sqlalchemy import create_engine\n",
    "from sqlalchemy.orm import sessionmaker\n",
    "from sqlalchemy import Column, Integer, String, Boolean, Date, CHAR\n",
    "from db import *\n",
    "import logging\n",
    "from transformations import *"
   ]
  },
  {
   "cell_type": "code",
   "execution_count": 3,
   "metadata": {},
   "outputs": [],
   "source": [
    "logging.basicConfig(level=logging.INFO)"
   ]
  },
  {
   "cell_type": "code",
   "execution_count": 4,
   "metadata": {},
   "outputs": [],
   "source": [
    "def read_linkedin():\n",
    "    query = \"SELECT * FROM jobslinkedin\"\n",
    "    \n",
    "    engine = engine_creation()\n",
    "    \n",
    "    df_linkedin = pd.read_sql(query, engine)\n",
    "\n",
    "    #Cerramos la conexion a la db\n",
    "    finish_engine(engine)\n",
    "\n",
    "    logging.info(\"database read succesfully\")\n",
    "    logging.info('data extracted is %s', df_linkedin.head(5))\n",
    "    return df_linkedin.to_json(orient='records')"
   ]
  },
  {
   "cell_type": "code",
   "execution_count": 5,
   "metadata": {},
   "outputs": [
    {
     "name": "stderr",
     "output_type": "stream",
     "text": [
      "INFO:root:database read succesfully\n",
      "INFO:root:data extracted is        job_id  company_id                                              title  \\\n",
      "0  3757940104    553718.0                              Hearing Care Provider   \n",
      "1  3757940025   2192142.0  Shipping & Receiving Associate 2nd shift (Beav...   \n",
      "2  3757938019    474443.0                               Manager, Engineering   \n",
      "3  3757938018  18213359.0                                               Cook   \n",
      "4  3757937095    437225.0        Principal Cloud Security Architect (Remote)   \n",
      "\n",
      "                                         description  max_salary  med_salary  \\\n",
      "0  Overview\\n\\nHearingLife is a national hearing ...         NaN      5250.0   \n",
      "1  Metalcraft of Mayville\\nMetalcraft of Mayville...         NaN         NaN   \n",
      "2  \\nThe TSUBAKI name is synonymous with excellen...         NaN         NaN   \n",
      "3  descriptionTitle\\n\\n Looking for a great oppor...         NaN      2227.0   \n",
      "4  Job Summary\\nAt iHerb, we are on a mission to ...    275834.0         NaN   \n",
      "\n",
      "   min_salary pay_period formatted_work_type          location  ...  \\\n",
      "0         NaN    MONTHLY           Full-time  Little River, SC  ...   \n",
      "1         NaN       None           Full-time    Beaver Dam, WI  ...   \n",
      "2         NaN       None           Full-time      Bessemer, AL  ...   \n",
      "3         NaN     HOURLY           Full-time   Aliso Viejo, CA  ...   \n",
      "4    205956.0     YEARLY           Full-time     United States  ...   \n",
      "\n",
      "   closed_time  formatted_experience_level  \\\n",
      "0          NaN                 Entry level   \n",
      "1          NaN                        None   \n",
      "2          NaN                        None   \n",
      "3          NaN                 Entry level   \n",
      "4          NaN            Mid-Senior level   \n",
      "\n",
      "                                         skills_desc         listed_time  \\\n",
      "0                                               None  169909000000000000   \n",
      "1                                               None  169908000000000000   \n",
      "2  Bachelor's Degree in Mechanical Engineering pr...  169908000000000000   \n",
      "3                                               None  169908000000000000   \n",
      "4                                               None  169909000000000000   \n",
      "\n",
      "             posting_domain sponsored  work_type  currency  compensation_type  \\\n",
      "0  careers-demant.icims.com         0  FULL_TIME       USD        BASE_SALARY   \n",
      "1       www.click2apply.net         0  FULL_TIME      None               None   \n",
      "2       www.click2apply.net         0  FULL_TIME      None               None   \n",
      "3           jobs.apploi.com         0  FULL_TIME       USD        BASE_SALARY   \n",
      "4         careers.iherb.com         0  FULL_TIME       USD        BASE_SALARY   \n",
      "\n",
      "      scraped  \n",
      "0  1699138101  \n",
      "1  1699085420  \n",
      "2  1699085644  \n",
      "3  1699087461  \n",
      "4  1699085346  \n",
      "\n",
      "[5 rows x 28 columns]\n"
     ]
    }
   ],
   "source": [
    "read1 = read_linkedin()"
   ]
  },
  {
   "cell_type": "code",
   "execution_count": 6,
   "metadata": {},
   "outputs": [],
   "source": [
    "def read_linkedin_jobs():\n",
    "    query = \"SELECT * FROM jobsindustries\"\n",
    "    \n",
    "    engine = engine_creation()\n",
    "    \n",
    "    df_industries = pd.read_sql(query, engine)\n",
    "\n",
    "    #Cerramos la conexion a la db\n",
    "    finish_engine(engine)\n",
    "\n",
    "    logging.info(\"database read succesfully\")\n",
    "    logging.info('data extracted is %s', df_industries.head(5))\n",
    "    return df_industries.to_json(orient='records')\n"
   ]
  },
  {
   "cell_type": "code",
   "execution_count": 7,
   "metadata": {},
   "outputs": [
    {
     "name": "stderr",
     "output_type": "stream",
     "text": [
      "INFO:root:database read succesfully\n",
      "INFO:root:data extracted is        job_id  industry_id\n",
      "0  3378133231           68\n",
      "1  3497509795           96\n",
      "2  3690843087           47\n",
      "3  3691775263          112\n",
      "4  3691779379           80\n"
     ]
    }
   ],
   "source": [
    "readj = read_linkedin_jobs()"
   ]
  },
  {
   "cell_type": "code",
   "execution_count": 8,
   "metadata": {},
   "outputs": [],
   "source": [
    "def read_linkedin_industries():\n",
    "    query = \"SELECT * FROM industries\"\n",
    "    \n",
    "    engine = engine_creation()\n",
    "    \n",
    "    df_indus = pd.read_sql(query, engine)\n",
    "\n",
    "    #Cerramos la conexion a la db\n",
    "    finish_engine(engine)\n",
    "\n",
    "    logging.info(\"database read succesfully\")\n",
    "    logging.info('data extracted is %s', df_indus.head(5))\n",
    "    return df_indus.to_json(orient='records')"
   ]
  },
  {
   "cell_type": "code",
   "execution_count": 9,
   "metadata": {},
   "outputs": [
    {
     "name": "stderr",
     "output_type": "stream",
     "text": [
      "INFO:root:database read succesfully\n",
      "INFO:root:data extracted is    industry_id                         industry_name\n",
      "0            1       Defense and Space Manufacturing\n",
      "1            3       Computer Hardware Manufacturing\n",
      "2            4                  Software Development\n",
      "3            5          Computer Networking Products\n",
      "4            6  Technology, Information and Internet\n"
     ]
    }
   ],
   "source": [
    "readi = read_linkedin_industries()"
   ]
  }
 ],
 "metadata": {
  "kernelspec": {
   "display_name": "venv",
   "language": "python",
   "name": "python3"
  },
  "language_info": {
   "codemirror_mode": {
    "name": "ipython",
    "version": 3
   },
   "file_extension": ".py",
   "mimetype": "text/x-python",
   "name": "python",
   "nbconvert_exporter": "python",
   "pygments_lexer": "ipython3",
   "version": "3.10.12"
  }
 },
 "nbformat": 4,
 "nbformat_minor": 2
}
