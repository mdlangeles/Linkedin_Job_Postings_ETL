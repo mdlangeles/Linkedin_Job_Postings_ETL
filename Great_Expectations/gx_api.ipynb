{
 "cells": [
  {
   "cell_type": "code",
   "execution_count": 1,
   "metadata": {},
   "outputs": [],
   "source": [
    "import os\n",
    "import json\n",
    "from sqlalchemy import create_engine\n",
    "import pandas as pd\n",
    "import great_expectations as ge\n",
    "from great_expectations.core.expectation_configuration import ExpectationConfiguration"
   ]
  },
  {
   "cell_type": "code",
   "execution_count": 2,
   "metadata": {},
   "outputs": [
    {
     "name": "stdout",
     "output_type": "stream",
     "text": [
      "connected!\n"
     ]
    }
   ],
   "source": [
    "file_path = '../Credentials/keys.json'\n",
    "if os.path.exists(file_path):\n",
    "    with open(file_path, 'r') as json_file:\n",
    "        data = json.load(json_file)\n",
    "        user = data[\"user\"]\n",
    "        password = data[\"password\"]\n",
    "        port = data[\"port\"]\n",
    "        server = data[\"server\"]\n",
    "        db = data[\"db\"]\n",
    "else:\n",
    "    print(f\"File '{file_path}' not found.\")\n",
    "db_connection = f\"postgresql://{user}:{password}@{server}:{port}/{db}\"\n",
    "engine = create_engine(db_connection)\n",
    "print(f\"connected!\")"
   ]
  },
  {
   "cell_type": "code",
   "execution_count": 3,
   "metadata": {},
   "outputs": [],
   "source": [
    "engine = create_engine(db_connection) \n",
    "connection = engine.connect() \n",
    "table_name = 'jobs_api'  \n",
    "df = pd.read_sql_table(table_name, connection)\n",
    "API=df"
   ]
  },
  {
   "cell_type": "code",
   "execution_count": 4,
   "metadata": {},
   "outputs": [],
   "source": [
    "# Creamos un dataset de GX a partir del DataFrame\n",
    "API_gx=ge.from_pandas(API)"
   ]
  },
  {
   "cell_type": "code",
   "execution_count": 5,
   "metadata": {},
   "outputs": [
    {
     "data": {
      "text/html": [
       "<div>\n",
       "<style scoped>\n",
       "    .dataframe tbody tr th:only-of-type {\n",
       "        vertical-align: middle;\n",
       "    }\n",
       "\n",
       "    .dataframe tbody tr th {\n",
       "        vertical-align: top;\n",
       "    }\n",
       "\n",
       "    .dataframe thead th {\n",
       "        text-align: right;\n",
       "    }\n",
       "</style>\n",
       "<table border=\"1\" class=\"dataframe\">\n",
       "  <thead>\n",
       "    <tr style=\"text-align: right;\">\n",
       "      <th></th>\n",
       "      <th>work_year</th>\n",
       "      <th>experience_level</th>\n",
       "      <th>employment_type</th>\n",
       "      <th>job_title</th>\n",
       "      <th>salary</th>\n",
       "      <th>salary_currency</th>\n",
       "      <th>salary_in_usd</th>\n",
       "      <th>employee_residence</th>\n",
       "      <th>remote_ratio</th>\n",
       "      <th>company_location</th>\n",
       "      <th>company_size</th>\n",
       "    </tr>\n",
       "  </thead>\n",
       "  <tbody>\n",
       "    <tr>\n",
       "      <th>0</th>\n",
       "      <td>2023</td>\n",
       "      <td>SE</td>\n",
       "      <td>FT</td>\n",
       "      <td>Principal Data Scientist</td>\n",
       "      <td>80000</td>\n",
       "      <td>EUR</td>\n",
       "      <td>85847</td>\n",
       "      <td>ES</td>\n",
       "      <td>100</td>\n",
       "      <td>ES</td>\n",
       "      <td>L</td>\n",
       "    </tr>\n",
       "    <tr>\n",
       "      <th>1</th>\n",
       "      <td>2023</td>\n",
       "      <td>MI</td>\n",
       "      <td>CT</td>\n",
       "      <td>ML Engineer</td>\n",
       "      <td>30000</td>\n",
       "      <td>USD</td>\n",
       "      <td>30000</td>\n",
       "      <td>US</td>\n",
       "      <td>100</td>\n",
       "      <td>US</td>\n",
       "      <td>S</td>\n",
       "    </tr>\n",
       "    <tr>\n",
       "      <th>2</th>\n",
       "      <td>2023</td>\n",
       "      <td>MI</td>\n",
       "      <td>CT</td>\n",
       "      <td>ML Engineer</td>\n",
       "      <td>25500</td>\n",
       "      <td>USD</td>\n",
       "      <td>25500</td>\n",
       "      <td>US</td>\n",
       "      <td>100</td>\n",
       "      <td>US</td>\n",
       "      <td>S</td>\n",
       "    </tr>\n",
       "    <tr>\n",
       "      <th>3</th>\n",
       "      <td>2023</td>\n",
       "      <td>SE</td>\n",
       "      <td>FT</td>\n",
       "      <td>Data Scientist</td>\n",
       "      <td>175000</td>\n",
       "      <td>USD</td>\n",
       "      <td>175000</td>\n",
       "      <td>CA</td>\n",
       "      <td>100</td>\n",
       "      <td>CA</td>\n",
       "      <td>M</td>\n",
       "    </tr>\n",
       "    <tr>\n",
       "      <th>4</th>\n",
       "      <td>2023</td>\n",
       "      <td>SE</td>\n",
       "      <td>FT</td>\n",
       "      <td>Data Scientist</td>\n",
       "      <td>120000</td>\n",
       "      <td>USD</td>\n",
       "      <td>120000</td>\n",
       "      <td>CA</td>\n",
       "      <td>100</td>\n",
       "      <td>CA</td>\n",
       "      <td>M</td>\n",
       "    </tr>\n",
       "  </tbody>\n",
       "</table>\n",
       "</div>"
      ],
      "text/plain": [
       "   work_year experience_level employment_type                 job_title  \\\n",
       "0       2023               SE              FT  Principal Data Scientist   \n",
       "1       2023               MI              CT               ML Engineer   \n",
       "2       2023               MI              CT               ML Engineer   \n",
       "3       2023               SE              FT            Data Scientist   \n",
       "4       2023               SE              FT            Data Scientist   \n",
       "\n",
       "   salary salary_currency  salary_in_usd employee_residence  remote_ratio  \\\n",
       "0   80000             EUR          85847                 ES           100   \n",
       "1   30000             USD          30000                 US           100   \n",
       "2   25500             USD          25500                 US           100   \n",
       "3  175000             USD         175000                 CA           100   \n",
       "4  120000             USD         120000                 CA           100   \n",
       "\n",
       "  company_location company_size  \n",
       "0               ES            L  \n",
       "1               US            S  \n",
       "2               US            S  \n",
       "3               CA            M  \n",
       "4               CA            M  "
      ]
     },
     "execution_count": 5,
     "metadata": {},
     "output_type": "execute_result"
    }
   ],
   "source": [
    "API.head(5)"
   ]
  },
  {
   "cell_type": "code",
   "execution_count": 6,
   "metadata": {},
   "outputs": [
    {
     "name": "stdout",
     "output_type": "stream",
     "text": [
      "<class 'pandas.core.frame.DataFrame'>\n",
      "RangeIndex: 3755 entries, 0 to 3754\n",
      "Data columns (total 11 columns):\n",
      " #   Column              Non-Null Count  Dtype \n",
      "---  ------              --------------  ----- \n",
      " 0   work_year           3755 non-null   int64 \n",
      " 1   experience_level    3755 non-null   object\n",
      " 2   employment_type     3755 non-null   object\n",
      " 3   job_title           3755 non-null   object\n",
      " 4   salary              3755 non-null   int64 \n",
      " 5   salary_currency     3755 non-null   object\n",
      " 6   salary_in_usd       3755 non-null   int64 \n",
      " 7   employee_residence  3755 non-null   object\n",
      " 8   remote_ratio        3755 non-null   int64 \n",
      " 9   company_location    3755 non-null   object\n",
      " 10  company_size        3755 non-null   object\n",
      "dtypes: int64(4), object(7)\n",
      "memory usage: 322.8+ KB\n"
     ]
    }
   ],
   "source": [
    "API.info()"
   ]
  },
  {
   "cell_type": "code",
   "execution_count": 7,
   "metadata": {},
   "outputs": [
    {
     "data": {
      "text/plain": [
       "Index(['work_year', 'experience_level', 'employment_type', 'job_title',\n",
       "       'salary', 'salary_currency', 'salary_in_usd', 'employee_residence',\n",
       "       'remote_ratio', 'company_location', 'company_size'],\n",
       "      dtype='object')"
      ]
     },
     "execution_count": 7,
     "metadata": {},
     "output_type": "execute_result"
    }
   ],
   "source": [
    "API.columns"
   ]
  },
  {
   "cell_type": "code",
   "execution_count": 10,
   "metadata": {},
   "outputs": [
    {
     "name": "stdout",
     "output_type": "stream",
     "text": [
      "Validation results saved to: validation_results_API.txt\n"
     ]
    }
   ],
   "source": [
    "# Define tus expectativas\n",
    "expectations = []\n",
    "\n",
    "# Expects that the numeric columns do not have null values.\n",
    "numerical_columns = ['work_year', 'salary_in_usd', 'remote_ratio']\n",
    "for column in numerical_columns:\n",
    "    expectation = ExpectationConfiguration(\n",
    "        expectation_type=\"expect_column_values_to_not_be_null\",\n",
    "        kwargs={\"column\": column}\n",
    "    )\n",
    "    expectations.append(expectation)\n",
    "\n",
    "# Expect the salary columns to be greater than 0.\n",
    "salary_columns = ['salary', 'salary_in_usd']\n",
    "for column in salary_columns:\n",
    "    expectation = ExpectationConfiguration(\n",
    "        expectation_type=\"expect_column_values_to_be_greater_than\",\n",
    "        kwargs={\"column\": column, \"value\": 0}\n",
    "    )\n",
    "    expectations.append(expectation)\n",
    "\n",
    "# Expects text columns to have no null values\n",
    "text_columns = ['experience_level', 'employment_type', 'job_title', 'employee_residence', 'company_location', 'company_size']\n",
    "for column in text_columns:\n",
    "    expectation = ExpectationConfiguration(\n",
    "        expectation_type=\"expect_column_values_to_not_be_null\",\n",
    "        kwargs={\"column\": column}\n",
    "    )\n",
    "    expectations.append(expectation)\n",
    "\n",
    "# Create a suite of expectations\n",
    "suite_name = \"API_suite\"\n",
    "suite = ge.core.ExpectationSuite(expectation_suite_name=suite_name)\n",
    "suite.expectations.extend(expectations)\n",
    "\n",
    "\n",
    "# Validate the dataset against the suite of expectations\n",
    "result = API_gx.validate(expectation_suite=suite)\n",
    "\n",
    "# Save the results in a text file\n",
    "result_output_path = \"validation_results_API.txt\"\n",
    "with open(result_output_path, 'w') as f:\n",
    "    for idx, res in enumerate(result[\"results\"]):\n",
    "        expectation_config = res[\"expectation_config\"]\n",
    "        success = res[\"success\"]\n",
    "        f.write(f\"Expectation {idx + 1}: {expectation_config['expectation_type']}\\n\")\n",
    "        f.write(f\"Column: {expectation_config['kwargs'].get('column', 'N/A')}\\n\")\n",
    "        if \"value\" in expectation_config[\"kwargs\"]:\n",
    "            f.write(f\"Value: {expectation_config['kwargs']['value']}\\n\")\n",
    "        if \"regex\" in expectation_config[\"kwargs\"]:\n",
    "            f.write(f\"Regex: {expectation_config['kwargs']['regex']}\\n\")\n",
    "        if \"strftime_format\" in expectation_config[\"kwargs\"]:\n",
    "            f.write(f\"Strftime Format: {expectation_config['kwargs']['strftime_format']}\\n\")\n",
    "        f.write(f\"Success: {success}\\n\")\n",
    "        if not success:\n",
    "            f.write(\"Result details:\\n\")\n",
    "            f.write(json.dumps(res[\"result\"], indent=2))\n",
    "            f.write(\"\\n\")\n",
    "        f.write(\"-\" * 40)\n",
    "        f.write(\"\\n\")\n",
    "\n",
    "print(\"Validation results saved to:\", result_output_path)"
   ]
  }
 ],
 "metadata": {
  "kernelspec": {
   "display_name": "venv",
   "language": "python",
   "name": "python3"
  },
  "language_info": {
   "codemirror_mode": {
    "name": "ipython",
    "version": 3
   },
   "file_extension": ".py",
   "mimetype": "text/x-python",
   "name": "python",
   "nbconvert_exporter": "python",
   "pygments_lexer": "ipython3",
   "version": "3.10.12"
  }
 },
 "nbformat": 4,
 "nbformat_minor": 2
}
