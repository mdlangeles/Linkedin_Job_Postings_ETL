{
 "cells": [
  {
   "cell_type": "code",
   "execution_count": 13,
   "metadata": {},
   "outputs": [],
   "source": [
    "import os\n",
    "import json\n",
    "from sqlalchemy.orm import declarative_base\n",
    "from sqlalchemy import create_engine\n",
    "from sqlalchemy.orm import sessionmaker, declarative_base\n",
    "import pandas as pd\n",
    "import great_expectations as ge"
   ]
  },
  {
   "cell_type": "code",
   "execution_count": 7,
   "metadata": {},
   "outputs": [
    {
     "name": "stdout",
     "output_type": "stream",
     "text": [
      "connected!\n"
     ]
    }
   ],
   "source": [
    "file_path = '../Credentials/keys.json'\n",
    "if os.path.exists(file_path):\n",
    "    with open(file_path, 'r') as json_file:\n",
    "        data = json.load(json_file)\n",
    "        user = data[\"user\"]\n",
    "        password = data[\"password\"]\n",
    "        port = data[\"port\"]\n",
    "        server = data[\"server\"]\n",
    "        db = data[\"db\"]\n",
    "else:\n",
    "    print(f\"File '{file_path}' not found.\")\n",
    "db_connection = f\"postgresql://{user}:{password}@{server}:{port}/{db}\"\n",
    "engine = create_engine(db_connection)\n",
    "print(f\"connected!\")"
   ]
  },
  {
   "cell_type": "code",
   "execution_count": 10,
   "metadata": {},
   "outputs": [],
   "source": [
    "engine = create_engine(db_connection) #We create a SQLAlchemy engine to connect to the database\n",
    "connection = engine.connect() #We connect to the database\n",
    "table_name = 'jobslinkedinsalary'  \n",
    "df = pd.read_sql_table(table_name, connection) #We read the table into a pandas dataframe\n",
    "LinkedinSalary=df"
   ]
  },
  {
   "cell_type": "code",
   "execution_count": 14,
   "metadata": {},
   "outputs": [],
   "source": [
    "# Creamos un dataset de GX a partir del DataFrame\n",
    "linkedin_gx=ge.from_pandas(LinkedinSalary)"
   ]
  }
 ],
 "metadata": {
  "kernelspec": {
   "display_name": "venv",
   "language": "python",
   "name": "python3"
  },
  "language_info": {
   "codemirror_mode": {
    "name": "ipython",
    "version": 3
   },
   "file_extension": ".py",
   "mimetype": "text/x-python",
   "name": "python",
   "nbconvert_exporter": "python",
   "pygments_lexer": "ipython3",
   "version": "3.10.12"
  }
 },
 "nbformat": 4,
 "nbformat_minor": 2
}
